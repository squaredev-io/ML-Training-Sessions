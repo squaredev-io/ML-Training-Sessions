{
  "cells": [
    {
      "cell_type": "markdown",
      "metadata": {
        "id": "-6xzxbCUkTiT"
      },
      "source": [
        "# What is MLFlow?"
      ]
    },
    {
      "cell_type": "markdown",
      "metadata": {
        "id": "-iDcXbQqkamD"
      },
      "source": [
        "![icon128x128.jpg](data:image/jpeg;base64,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)\n",
        "\n",
        "MLflow is an open-source platform for the complete machine learning lifecycle. It is designed to help data scientists and machine learning engineers to track experiments, manage and reproduce models, and deploy models to production.\n",
        "\n",
        "MLflow offers several components, including:\n",
        "\n",
        "- Tracking: MLflow tracking component allows you to record and compare experiments, metrics, and parameters across different runs and machines.\n",
        "\n",
        "- Projects: With MLflow projects, you can package your code and all necessary dependencies to reproduce your experiments easily.\n",
        "\n",
        "- Models: MLflow models component offers a standard format to package and share machine learning models that can be used in different environments.\n",
        "\n",
        "- Model Registry: The model registry provides a collaborative hub for managing models and their versions.\n",
        "\n",
        "- Model serving: MLflow provides different ways to serve models, including batch inference and real-time serving via REST API.\n",
        "\n",
        "Overall, MLflow helps data scientists to increase their productivity and collaboration with team members while improving the quality and reproducibility of their machine learning models.\n",
        "\n",
        "MLFlow documentation: https://mlflow.org/docs/latest/index.html"
      ]
    },
    {
      "cell_type": "markdown",
      "metadata": {
        "id": "rjFsqHbIlAD-"
      },
      "source": [
        "# Download and inspect data for a classification problem"
      ]
    },
    {
      "cell_type": "code",
      "execution_count": null,
      "metadata": {
        "colab": {
          "base_uri": "https://localhost:8080/",
          "height": 522
        },
        "id": "MjojXgt-lxzb",
        "outputId": "fa7322e5-ea87-42dd-aad0-e8de96e9a4d7"
      },
      "outputs": [
        {
          "data": {
            "text/html": [
              "\n",
              "  <div id=\"df-4a2453f2-4749-420c-b81b-a25d3ddd138b\">\n",
              "    <div class=\"colab-df-container\">\n",
              "      <div>\n",
              "<style scoped>\n",
              "    .dataframe tbody tr th:only-of-type {\n",
              "        vertical-align: middle;\n",
              "    }\n",
              "\n",
              "    .dataframe tbody tr th {\n",
              "        vertical-align: top;\n",
              "    }\n",
              "\n",
              "    .dataframe thead th {\n",
              "        text-align: right;\n",
              "    }\n",
              "</style>\n",
              "<table border=\"1\" class=\"dataframe\">\n",
              "  <thead>\n",
              "    <tr style=\"text-align: right;\">\n",
              "      <th></th>\n",
              "      <th>mean radius</th>\n",
              "      <th>mean texture</th>\n",
              "      <th>mean perimeter</th>\n",
              "      <th>mean area</th>\n",
              "      <th>mean smoothness</th>\n",
              "      <th>mean compactness</th>\n",
              "      <th>mean concavity</th>\n",
              "      <th>mean concave points</th>\n",
              "      <th>mean symmetry</th>\n",
              "      <th>mean fractal dimension</th>\n",
              "      <th>...</th>\n",
              "      <th>worst texture</th>\n",
              "      <th>worst perimeter</th>\n",
              "      <th>worst area</th>\n",
              "      <th>worst smoothness</th>\n",
              "      <th>worst compactness</th>\n",
              "      <th>worst concavity</th>\n",
              "      <th>worst concave points</th>\n",
              "      <th>worst symmetry</th>\n",
              "      <th>worst fractal dimension</th>\n",
              "      <th>target</th>\n",
              "    </tr>\n",
              "  </thead>\n",
              "  <tbody>\n",
              "    <tr>\n",
              "      <th>0</th>\n",
              "      <td>17.99</td>\n",
              "      <td>10.38</td>\n",
              "      <td>122.80</td>\n",
              "      <td>1001.0</td>\n",
              "      <td>0.11840</td>\n",
              "      <td>0.27760</td>\n",
              "      <td>0.30010</td>\n",
              "      <td>0.14710</td>\n",
              "      <td>0.2419</td>\n",
              "      <td>0.07871</td>\n",
              "      <td>...</td>\n",
              "      <td>17.33</td>\n",
              "      <td>184.60</td>\n",
              "      <td>2019.0</td>\n",
              "      <td>0.16220</td>\n",
              "      <td>0.66560</td>\n",
              "      <td>0.7119</td>\n",
              "      <td>0.2654</td>\n",
              "      <td>0.4601</td>\n",
              "      <td>0.11890</td>\n",
              "      <td>0</td>\n",
              "    </tr>\n",
              "    <tr>\n",
              "      <th>1</th>\n",
              "      <td>20.57</td>\n",
              "      <td>17.77</td>\n",
              "      <td>132.90</td>\n",
              "      <td>1326.0</td>\n",
              "      <td>0.08474</td>\n",
              "      <td>0.07864</td>\n",
              "      <td>0.08690</td>\n",
              "      <td>0.07017</td>\n",
              "      <td>0.1812</td>\n",
              "      <td>0.05667</td>\n",
              "      <td>...</td>\n",
              "      <td>23.41</td>\n",
              "      <td>158.80</td>\n",
              "      <td>1956.0</td>\n",
              "      <td>0.12380</td>\n",
              "      <td>0.18660</td>\n",
              "      <td>0.2416</td>\n",
              "      <td>0.1860</td>\n",
              "      <td>0.2750</td>\n",
              "      <td>0.08902</td>\n",
              "      <td>0</td>\n",
              "    </tr>\n",
              "    <tr>\n",
              "      <th>2</th>\n",
              "      <td>19.69</td>\n",
              "      <td>21.25</td>\n",
              "      <td>130.00</td>\n",
              "      <td>1203.0</td>\n",
              "      <td>0.10960</td>\n",
              "      <td>0.15990</td>\n",
              "      <td>0.19740</td>\n",
              "      <td>0.12790</td>\n",
              "      <td>0.2069</td>\n",
              "      <td>0.05999</td>\n",
              "      <td>...</td>\n",
              "      <td>25.53</td>\n",
              "      <td>152.50</td>\n",
              "      <td>1709.0</td>\n",
              "      <td>0.14440</td>\n",
              "      <td>0.42450</td>\n",
              "      <td>0.4504</td>\n",
              "      <td>0.2430</td>\n",
              "      <td>0.3613</td>\n",
              "      <td>0.08758</td>\n",
              "      <td>0</td>\n",
              "    </tr>\n",
              "    <tr>\n",
              "      <th>3</th>\n",
              "      <td>11.42</td>\n",
              "      <td>20.38</td>\n",
              "      <td>77.58</td>\n",
              "      <td>386.1</td>\n",
              "      <td>0.14250</td>\n",
              "      <td>0.28390</td>\n",
              "      <td>0.24140</td>\n",
              "      <td>0.10520</td>\n",
              "      <td>0.2597</td>\n",
              "      <td>0.09744</td>\n",
              "      <td>...</td>\n",
              "      <td>26.50</td>\n",
              "      <td>98.87</td>\n",
              "      <td>567.7</td>\n",
              "      <td>0.20980</td>\n",
              "      <td>0.86630</td>\n",
              "      <td>0.6869</td>\n",
              "      <td>0.2575</td>\n",
              "      <td>0.6638</td>\n",
              "      <td>0.17300</td>\n",
              "      <td>0</td>\n",
              "    </tr>\n",
              "    <tr>\n",
              "      <th>4</th>\n",
              "      <td>20.29</td>\n",
              "      <td>14.34</td>\n",
              "      <td>135.10</td>\n",
              "      <td>1297.0</td>\n",
              "      <td>0.10030</td>\n",
              "      <td>0.13280</td>\n",
              "      <td>0.19800</td>\n",
              "      <td>0.10430</td>\n",
              "      <td>0.1809</td>\n",
              "      <td>0.05883</td>\n",
              "      <td>...</td>\n",
              "      <td>16.67</td>\n",
              "      <td>152.20</td>\n",
              "      <td>1575.0</td>\n",
              "      <td>0.13740</td>\n",
              "      <td>0.20500</td>\n",
              "      <td>0.4000</td>\n",
              "      <td>0.1625</td>\n",
              "      <td>0.2364</td>\n",
              "      <td>0.07678</td>\n",
              "      <td>0</td>\n",
              "    </tr>\n",
              "    <tr>\n",
              "      <th>...</th>\n",
              "      <td>...</td>\n",
              "      <td>...</td>\n",
              "      <td>...</td>\n",
              "      <td>...</td>\n",
              "      <td>...</td>\n",
              "      <td>...</td>\n",
              "      <td>...</td>\n",
              "      <td>...</td>\n",
              "      <td>...</td>\n",
              "      <td>...</td>\n",
              "      <td>...</td>\n",
              "      <td>...</td>\n",
              "      <td>...</td>\n",
              "      <td>...</td>\n",
              "      <td>...</td>\n",
              "      <td>...</td>\n",
              "      <td>...</td>\n",
              "      <td>...</td>\n",
              "      <td>...</td>\n",
              "      <td>...</td>\n",
              "      <td>...</td>\n",
              "    </tr>\n",
              "    <tr>\n",
              "      <th>564</th>\n",
              "      <td>21.56</td>\n",
              "      <td>22.39</td>\n",
              "      <td>142.00</td>\n",
              "      <td>1479.0</td>\n",
              "      <td>0.11100</td>\n",
              "      <td>0.11590</td>\n",
              "      <td>0.24390</td>\n",
              "      <td>0.13890</td>\n",
              "      <td>0.1726</td>\n",
              "      <td>0.05623</td>\n",
              "      <td>...</td>\n",
              "      <td>26.40</td>\n",
              "      <td>166.10</td>\n",
              "      <td>2027.0</td>\n",
              "      <td>0.14100</td>\n",
              "      <td>0.21130</td>\n",
              "      <td>0.4107</td>\n",
              "      <td>0.2216</td>\n",
              "      <td>0.2060</td>\n",
              "      <td>0.07115</td>\n",
              "      <td>0</td>\n",
              "    </tr>\n",
              "    <tr>\n",
              "      <th>565</th>\n",
              "      <td>20.13</td>\n",
              "      <td>28.25</td>\n",
              "      <td>131.20</td>\n",
              "      <td>1261.0</td>\n",
              "      <td>0.09780</td>\n",
              "      <td>0.10340</td>\n",
              "      <td>0.14400</td>\n",
              "      <td>0.09791</td>\n",
              "      <td>0.1752</td>\n",
              "      <td>0.05533</td>\n",
              "      <td>...</td>\n",
              "      <td>38.25</td>\n",
              "      <td>155.00</td>\n",
              "      <td>1731.0</td>\n",
              "      <td>0.11660</td>\n",
              "      <td>0.19220</td>\n",
              "      <td>0.3215</td>\n",
              "      <td>0.1628</td>\n",
              "      <td>0.2572</td>\n",
              "      <td>0.06637</td>\n",
              "      <td>0</td>\n",
              "    </tr>\n",
              "    <tr>\n",
              "      <th>566</th>\n",
              "      <td>16.60</td>\n",
              "      <td>28.08</td>\n",
              "      <td>108.30</td>\n",
              "      <td>858.1</td>\n",
              "      <td>0.08455</td>\n",
              "      <td>0.10230</td>\n",
              "      <td>0.09251</td>\n",
              "      <td>0.05302</td>\n",
              "      <td>0.1590</td>\n",
              "      <td>0.05648</td>\n",
              "      <td>...</td>\n",
              "      <td>34.12</td>\n",
              "      <td>126.70</td>\n",
              "      <td>1124.0</td>\n",
              "      <td>0.11390</td>\n",
              "      <td>0.30940</td>\n",
              "      <td>0.3403</td>\n",
              "      <td>0.1418</td>\n",
              "      <td>0.2218</td>\n",
              "      <td>0.07820</td>\n",
              "      <td>0</td>\n",
              "    </tr>\n",
              "    <tr>\n",
              "      <th>567</th>\n",
              "      <td>20.60</td>\n",
              "      <td>29.33</td>\n",
              "      <td>140.10</td>\n",
              "      <td>1265.0</td>\n",
              "      <td>0.11780</td>\n",
              "      <td>0.27700</td>\n",
              "      <td>0.35140</td>\n",
              "      <td>0.15200</td>\n",
              "      <td>0.2397</td>\n",
              "      <td>0.07016</td>\n",
              "      <td>...</td>\n",
              "      <td>39.42</td>\n",
              "      <td>184.60</td>\n",
              "      <td>1821.0</td>\n",
              "      <td>0.16500</td>\n",
              "      <td>0.86810</td>\n",
              "      <td>0.9387</td>\n",
              "      <td>0.2650</td>\n",
              "      <td>0.4087</td>\n",
              "      <td>0.12400</td>\n",
              "      <td>0</td>\n",
              "    </tr>\n",
              "    <tr>\n",
              "      <th>568</th>\n",
              "      <td>7.76</td>\n",
              "      <td>24.54</td>\n",
              "      <td>47.92</td>\n",
              "      <td>181.0</td>\n",
              "      <td>0.05263</td>\n",
              "      <td>0.04362</td>\n",
              "      <td>0.00000</td>\n",
              "      <td>0.00000</td>\n",
              "      <td>0.1587</td>\n",
              "      <td>0.05884</td>\n",
              "      <td>...</td>\n",
              "      <td>30.37</td>\n",
              "      <td>59.16</td>\n",
              "      <td>268.6</td>\n",
              "      <td>0.08996</td>\n",
              "      <td>0.06444</td>\n",
              "      <td>0.0000</td>\n",
              "      <td>0.0000</td>\n",
              "      <td>0.2871</td>\n",
              "      <td>0.07039</td>\n",
              "      <td>1</td>\n",
              "    </tr>\n",
              "  </tbody>\n",
              "</table>\n",
              "<p>569 rows × 31 columns</p>\n",
              "</div>\n",
              "      <button class=\"colab-df-convert\" onclick=\"convertToInteractive('df-4a2453f2-4749-420c-b81b-a25d3ddd138b')\"\n",
              "              title=\"Convert this dataframe to an interactive table.\"\n",
              "              style=\"display:none;\">\n",
              "        \n",
              "  <svg xmlns=\"http://www.w3.org/2000/svg\" height=\"24px\"viewBox=\"0 0 24 24\"\n",
              "       width=\"24px\">\n",
              "    <path d=\"M0 0h24v24H0V0z\" fill=\"none\"/>\n",
              "    <path d=\"M18.56 5.44l.94 2.06.94-2.06 2.06-.94-2.06-.94-.94-2.06-.94 2.06-2.06.94zm-11 1L8.5 8.5l.94-2.06 2.06-.94-2.06-.94L8.5 2.5l-.94 2.06-2.06.94zm10 10l.94 2.06.94-2.06 2.06-.94-2.06-.94-.94-2.06-.94 2.06-2.06.94z\"/><path d=\"M17.41 7.96l-1.37-1.37c-.4-.4-.92-.59-1.43-.59-.52 0-1.04.2-1.43.59L10.3 9.45l-7.72 7.72c-.78.78-.78 2.05 0 2.83L4 21.41c.39.39.9.59 1.41.59.51 0 1.02-.2 1.41-.59l7.78-7.78 2.81-2.81c.8-.78.8-2.07 0-2.86zM5.41 20L4 18.59l7.72-7.72 1.47 1.35L5.41 20z\"/>\n",
              "  </svg>\n",
              "      </button>\n",
              "      \n",
              "  <style>\n",
              "    .colab-df-container {\n",
              "      display:flex;\n",
              "      flex-wrap:wrap;\n",
              "      gap: 12px;\n",
              "    }\n",
              "\n",
              "    .colab-df-convert {\n",
              "      background-color: #E8F0FE;\n",
              "      border: none;\n",
              "      border-radius: 50%;\n",
              "      cursor: pointer;\n",
              "      display: none;\n",
              "      fill: #1967D2;\n",
              "      height: 32px;\n",
              "      padding: 0 0 0 0;\n",
              "      width: 32px;\n",
              "    }\n",
              "\n",
              "    .colab-df-convert:hover {\n",
              "      background-color: #E2EBFA;\n",
              "      box-shadow: 0px 1px 2px rgba(60, 64, 67, 0.3), 0px 1px 3px 1px rgba(60, 64, 67, 0.15);\n",
              "      fill: #174EA6;\n",
              "    }\n",
              "\n",
              "    [theme=dark] .colab-df-convert {\n",
              "      background-color: #3B4455;\n",
              "      fill: #D2E3FC;\n",
              "    }\n",
              "\n",
              "    [theme=dark] .colab-df-convert:hover {\n",
              "      background-color: #434B5C;\n",
              "      box-shadow: 0px 1px 3px 1px rgba(0, 0, 0, 0.15);\n",
              "      filter: drop-shadow(0px 1px 2px rgba(0, 0, 0, 0.3));\n",
              "      fill: #FFFFFF;\n",
              "    }\n",
              "  </style>\n",
              "\n",
              "      <script>\n",
              "        const buttonEl =\n",
              "          document.querySelector('#df-4a2453f2-4749-420c-b81b-a25d3ddd138b button.colab-df-convert');\n",
              "        buttonEl.style.display =\n",
              "          google.colab.kernel.accessAllowed ? 'block' : 'none';\n",
              "\n",
              "        async function convertToInteractive(key) {\n",
              "          const element = document.querySelector('#df-4a2453f2-4749-420c-b81b-a25d3ddd138b');\n",
              "          const dataTable =\n",
              "            await google.colab.kernel.invokeFunction('convertToInteractive',\n",
              "                                                     [key], {});\n",
              "          if (!dataTable) return;\n",
              "\n",
              "          const docLinkHtml = 'Like what you see? Visit the ' +\n",
              "            '<a target=\"_blank\" href=https://colab.research.google.com/notebooks/data_table.ipynb>data table notebook</a>'\n",
              "            + ' to learn more about interactive tables.';\n",
              "          element.innerHTML = '';\n",
              "          dataTable['output_type'] = 'display_data';\n",
              "          await google.colab.output.renderOutput(dataTable, element);\n",
              "          const docLink = document.createElement('div');\n",
              "          docLink.innerHTML = docLinkHtml;\n",
              "          element.appendChild(docLink);\n",
              "        }\n",
              "      </script>\n",
              "    </div>\n",
              "  </div>\n",
              "  "
            ],
            "text/plain": [
              "     mean radius  mean texture  mean perimeter  mean area  mean smoothness  \\\n",
              "0          17.99         10.38          122.80     1001.0          0.11840   \n",
              "1          20.57         17.77          132.90     1326.0          0.08474   \n",
              "2          19.69         21.25          130.00     1203.0          0.10960   \n",
              "3          11.42         20.38           77.58      386.1          0.14250   \n",
              "4          20.29         14.34          135.10     1297.0          0.10030   \n",
              "..           ...           ...             ...        ...              ...   \n",
              "564        21.56         22.39          142.00     1479.0          0.11100   \n",
              "565        20.13         28.25          131.20     1261.0          0.09780   \n",
              "566        16.60         28.08          108.30      858.1          0.08455   \n",
              "567        20.60         29.33          140.10     1265.0          0.11780   \n",
              "568         7.76         24.54           47.92      181.0          0.05263   \n",
              "\n",
              "     mean compactness  mean concavity  mean concave points  mean symmetry  \\\n",
              "0             0.27760         0.30010              0.14710         0.2419   \n",
              "1             0.07864         0.08690              0.07017         0.1812   \n",
              "2             0.15990         0.19740              0.12790         0.2069   \n",
              "3             0.28390         0.24140              0.10520         0.2597   \n",
              "4             0.13280         0.19800              0.10430         0.1809   \n",
              "..                ...             ...                  ...            ...   \n",
              "564           0.11590         0.24390              0.13890         0.1726   \n",
              "565           0.10340         0.14400              0.09791         0.1752   \n",
              "566           0.10230         0.09251              0.05302         0.1590   \n",
              "567           0.27700         0.35140              0.15200         0.2397   \n",
              "568           0.04362         0.00000              0.00000         0.1587   \n",
              "\n",
              "     mean fractal dimension  ...  worst texture  worst perimeter  worst area  \\\n",
              "0                   0.07871  ...          17.33           184.60      2019.0   \n",
              "1                   0.05667  ...          23.41           158.80      1956.0   \n",
              "2                   0.05999  ...          25.53           152.50      1709.0   \n",
              "3                   0.09744  ...          26.50            98.87       567.7   \n",
              "4                   0.05883  ...          16.67           152.20      1575.0   \n",
              "..                      ...  ...            ...              ...         ...   \n",
              "564                 0.05623  ...          26.40           166.10      2027.0   \n",
              "565                 0.05533  ...          38.25           155.00      1731.0   \n",
              "566                 0.05648  ...          34.12           126.70      1124.0   \n",
              "567                 0.07016  ...          39.42           184.60      1821.0   \n",
              "568                 0.05884  ...          30.37            59.16       268.6   \n",
              "\n",
              "     worst smoothness  worst compactness  worst concavity  \\\n",
              "0             0.16220            0.66560           0.7119   \n",
              "1             0.12380            0.18660           0.2416   \n",
              "2             0.14440            0.42450           0.4504   \n",
              "3             0.20980            0.86630           0.6869   \n",
              "4             0.13740            0.20500           0.4000   \n",
              "..                ...                ...              ...   \n",
              "564           0.14100            0.21130           0.4107   \n",
              "565           0.11660            0.19220           0.3215   \n",
              "566           0.11390            0.30940           0.3403   \n",
              "567           0.16500            0.86810           0.9387   \n",
              "568           0.08996            0.06444           0.0000   \n",
              "\n",
              "     worst concave points  worst symmetry  worst fractal dimension  target  \n",
              "0                  0.2654          0.4601                  0.11890       0  \n",
              "1                  0.1860          0.2750                  0.08902       0  \n",
              "2                  0.2430          0.3613                  0.08758       0  \n",
              "3                  0.2575          0.6638                  0.17300       0  \n",
              "4                  0.1625          0.2364                  0.07678       0  \n",
              "..                    ...             ...                      ...     ...  \n",
              "564                0.2216          0.2060                  0.07115       0  \n",
              "565                0.1628          0.2572                  0.06637       0  \n",
              "566                0.1418          0.2218                  0.07820       0  \n",
              "567                0.2650          0.4087                  0.12400       0  \n",
              "568                0.0000          0.2871                  0.07039       1  \n",
              "\n",
              "[569 rows x 31 columns]"
            ]
          },
          "execution_count": 1,
          "metadata": {},
          "output_type": "execute_result"
        }
      ],
      "source": [
        "import pandas as pd\n",
        "import numpy as np\n",
        "from sklearn import datasets\n",
        "\n",
        "\n",
        "# Load tha breast cancer dataset\n",
        "bc = datasets.load_breast_cancer()\n",
        "\n",
        "# Load the dataset as a pandas dataframe\n",
        "df = pd.DataFrame(bc.data, columns=bc.feature_names)\n",
        "df[\"target\"] = bc.target\n",
        "df"
      ]
    },
    {
      "cell_type": "code",
      "execution_count": null,
      "metadata": {
        "colab": {
          "base_uri": "https://localhost:8080/"
        },
        "id": "D7HprJr_6J2p",
        "outputId": "92f20460-9d41-4512-e6bb-691baceddba8"
      },
      "outputs": [
        {
          "name": "stdout",
          "output_type": "stream",
          "text": [
            "The full description of the dataset:\n",
            " .. _breast_cancer_dataset:\n",
            "\n",
            "Breast cancer wisconsin (diagnostic) dataset\n",
            "--------------------------------------------\n",
            "\n",
            "**Data Set Characteristics:**\n",
            "\n",
            "    :Number of Instances: 569\n",
            "\n",
            "    :Number of Attributes: 30 numeric, predictive attributes and the class\n",
            "\n",
            "    :Attribute Information:\n",
            "        - radius (mean of distances from center to points on the perimeter)\n",
            "        - texture (standard deviation of gray-scale values)\n",
            "        - perimeter\n",
            "        - area\n",
            "        - smoothness (local variation in radius lengths)\n",
            "        - compactness (perimeter^2 / area - 1.0)\n",
            "        - concavity (severity of concave portions of the contour)\n",
            "        - concave points (number of concave portions of the contour)\n",
            "        - symmetry\n",
            "        - fractal dimension (\"coastline approximation\" - 1)\n",
            "\n",
            "        The mean, standard error, and \"worst\" or largest (mean of the three\n",
            "        worst/largest values) of these features were computed for each image,\n",
            "        resulting in 30 features.  For instance, field 0 is Mean Radius, field\n",
            "        10 is Radius SE, field 20 is Worst Radius.\n",
            "\n",
            "        - class:\n",
            "                - WDBC-Malignant\n",
            "                - WDBC-Benign\n",
            "\n",
            "    :Summary Statistics:\n",
            "\n",
            "    ===================================== ====== ======\n",
            "                                           Min    Max\n",
            "    ===================================== ====== ======\n",
            "    radius (mean):                        6.981  28.11\n",
            "    texture (mean):                       9.71   39.28\n",
            "    perimeter (mean):                     43.79  188.5\n",
            "    area (mean):                          143.5  2501.0\n",
            "    smoothness (mean):                    0.053  0.163\n",
            "    compactness (mean):                   0.019  0.345\n",
            "    concavity (mean):                     0.0    0.427\n",
            "    concave points (mean):                0.0    0.201\n",
            "    symmetry (mean):                      0.106  0.304\n",
            "    fractal dimension (mean):             0.05   0.097\n",
            "    radius (standard error):              0.112  2.873\n",
            "    texture (standard error):             0.36   4.885\n",
            "    perimeter (standard error):           0.757  21.98\n",
            "    area (standard error):                6.802  542.2\n",
            "    smoothness (standard error):          0.002  0.031\n",
            "    compactness (standard error):         0.002  0.135\n",
            "    concavity (standard error):           0.0    0.396\n",
            "    concave points (standard error):      0.0    0.053\n",
            "    symmetry (standard error):            0.008  0.079\n",
            "    fractal dimension (standard error):   0.001  0.03\n",
            "    radius (worst):                       7.93   36.04\n",
            "    texture (worst):                      12.02  49.54\n",
            "    perimeter (worst):                    50.41  251.2\n",
            "    area (worst):                         185.2  4254.0\n",
            "    smoothness (worst):                   0.071  0.223\n",
            "    compactness (worst):                  0.027  1.058\n",
            "    concavity (worst):                    0.0    1.252\n",
            "    concave points (worst):               0.0    0.291\n",
            "    symmetry (worst):                     0.156  0.664\n",
            "    fractal dimension (worst):            0.055  0.208\n",
            "    ===================================== ====== ======\n",
            "\n",
            "    :Missing Attribute Values: None\n",
            "\n",
            "    :Class Distribution: 212 - Malignant, 357 - Benign\n",
            "\n",
            "    :Creator:  Dr. William H. Wolberg, W. Nick Street, Olvi L. Mangasarian\n",
            "\n",
            "    :Donor: Nick Street\n",
            "\n",
            "    :Date: November, 1995\n",
            "\n",
            "This is a copy of UCI ML Breast Cancer Wisconsin (Diagnostic) datasets.\n",
            "https://goo.gl/U2Uwz2\n",
            "\n",
            "Features are computed from a digitized image of a fine needle\n",
            "aspirate (FNA) of a breast mass.  They describe\n",
            "characteristics of the cell nuclei present in the image.\n",
            "\n",
            "Separating plane described above was obtained using\n",
            "Multisurface Method-Tree (MSM-T) [K. P. Bennett, \"Decision Tree\n",
            "Construction Via Linear Programming.\" Proceedings of the 4th\n",
            "Midwest Artificial Intelligence and Cognitive Science Society,\n",
            "pp. 97-101, 1992], a classification method which uses linear\n",
            "programming to construct a decision tree.  Relevant features\n",
            "were selected using an exhaustive search in the space of 1-4\n",
            "features and 1-3 separating planes.\n",
            "\n",
            "The actual linear program used to obtain the separating plane\n",
            "in the 3-dimensional space is that described in:\n",
            "[K. P. Bennett and O. L. Mangasarian: \"Robust Linear\n",
            "Programming Discrimination of Two Linearly Inseparable Sets\",\n",
            "Optimization Methods and Software 1, 1992, 23-34].\n",
            "\n",
            "This database is also available through the UW CS ftp server:\n",
            "\n",
            "ftp ftp.cs.wisc.edu\n",
            "cd math-prog/cpo-dataset/machine-learn/WDBC/\n",
            "\n",
            ".. topic:: References\n",
            "\n",
            "   - W.N. Street, W.H. Wolberg and O.L. Mangasarian. Nuclear feature extraction \n",
            "     for breast tumor diagnosis. IS&T/SPIE 1993 International Symposium on \n",
            "     Electronic Imaging: Science and Technology, volume 1905, pages 861-870,\n",
            "     San Jose, CA, 1993.\n",
            "   - O.L. Mangasarian, W.N. Street and W.H. Wolberg. Breast cancer diagnosis and \n",
            "     prognosis via linear programming. Operations Research, 43(4), pages 570-577, \n",
            "     July-August 1995.\n",
            "   - W.H. Wolberg, W.N. Street, and O.L. Mangasarian. Machine learning techniques\n",
            "     to diagnose breast cancer from fine-needle aspirates. Cancer Letters 77 (1994) \n",
            "     163-171.\n"
          ]
        }
      ],
      "source": [
        "# Show the full description of the dataset\n",
        "print('The full description of the dataset:\\n',bc['DESCR'])"
      ]
    },
    {
      "cell_type": "markdown",
      "metadata": {
        "id": "KN6C6IiuvuPp"
      },
      "source": [
        "# Train a classifier using a decision tree"
      ]
    },
    {
      "cell_type": "code",
      "execution_count": null,
      "metadata": {
        "colab": {
          "base_uri": "https://localhost:8080/"
        },
        "id": "8IEBbM_G4RBA",
        "outputId": "d1a449ed-eda3-44cb-ae59-0a2220b89ca5"
      },
      "outputs": [
        {
          "name": "stdout",
          "output_type": "stream",
          "text": [
            "Test data accuracy: 0.8951048951048951\n"
          ]
        }
      ],
      "source": [
        "from sklearn.model_selection import train_test_split\n",
        "from sklearn.tree import DecisionTreeClassifier\n",
        "from sklearn.metrics import accuracy_score\n",
        "\n",
        "\n",
        "# Extracting Attributes / Features\n",
        "X = bc.data\n",
        "\n",
        "# Extracting Target / Class Labels\n",
        "y = bc.target\n",
        "\n",
        "# Creating Train and Test datasets\n",
        "X_train, X_test, y_train, y_test = train_test_split(X,y, random_state = 50, test_size = 0.25)\n",
        "\n",
        "# Creating the first Decision Tree Classifier\n",
        "clf1 = DecisionTreeClassifier(criterion=\"gini\", max_depth=2, max_leaf_nodes=2)\n",
        "clf1.fit(X_train,y_train)\n",
        "\n",
        "# Predict Accuracy Score\n",
        "y_pred = clf1.predict(X_test)\n",
        "print(\"Test data accuracy:\",accuracy_score(y_true = y_test, y_pred=y_pred))"
      ]
    },
    {
      "cell_type": "markdown",
      "metadata": {
        "id": "_cxkcpOj8NL3"
      },
      "source": [
        "# Hyperparameters tuning"
      ]
    },
    {
      "cell_type": "markdown",
      "metadata": {
        "id": "tMIAyqRn8XOc"
      },
      "source": [
        "Follow the link:https://scikit-learn.org/stable/modules/generated/sklearn.tree.DecisionTreeClassifier.html to see all the available hyperparameters for decision trees. In our case we will use max-depth of decision tree, max_leaf_node which caps the number of leaf nodes in the decision tree and the separation criterion whci could be gini, entropy or log_loss."
      ]
    },
    {
      "cell_type": "code",
      "execution_count": null,
      "metadata": {
        "colab": {
          "base_uri": "https://localhost:8080/"
        },
        "id": "PJS0Pzv38Q5S",
        "outputId": "ee59fc6a-30ce-425b-d94a-58aab2740815"
      },
      "outputs": [
        {
          "name": "stdout",
          "output_type": "stream",
          "text": [
            "Test data accuracy: 0.8811188811188811\n"
          ]
        }
      ],
      "source": [
        "# Creating the next Decision Tree Classifier\n",
        "clf2 = DecisionTreeClassifier(criterion=\"log_loss\", max_depth=4, max_leaf_nodes=4)\n",
        "clf2.fit(X_train,y_train)\n",
        "\n",
        "# Predict Accuracy Score\n",
        "y_pred = clf2.predict(X_test)\n",
        "print(\"Test data accuracy:\",accuracy_score(y_true = y_test, y_pred=y_pred))"
      ]
    },
    {
      "cell_type": "code",
      "execution_count": null,
      "metadata": {
        "colab": {
          "base_uri": "https://localhost:8080/"
        },
        "id": "FDUrmFbpAAdG",
        "outputId": "38b6fac0-6d6b-40e8-d1ea-18a2ad7e04b5"
      },
      "outputs": [
        {
          "name": "stdout",
          "output_type": "stream",
          "text": [
            "Test data accuracy: 0.916083916083916\n"
          ]
        }
      ],
      "source": [
        "# Creating the next Decision Tree Classifier\n",
        "clf3 = DecisionTreeClassifier(criterion=\"gini\", max_depth=4, max_leaf_nodes=10)\n",
        "clf3.fit(X_train,y_train)\n",
        "\n",
        "# Predict Accuracy Score\n",
        "y_pred = clf3.predict(X_test)\n",
        "print(\"Test data accuracy:\",accuracy_score(y_true = y_test, y_pred=y_pred))"
      ]
    },
    {
      "cell_type": "markdown",
      "metadata": {
        "id": "sRirSIP5AT58"
      },
      "source": [
        "# Experiment tracking using the MLFlow"
      ]
    },
    {
      "cell_type": "code",
      "execution_count": null,
      "metadata": {
        "colab": {
          "base_uri": "https://localhost:8080/"
        },
        "id": "4siAN5jPBH9W",
        "outputId": "6425edf2-5aae-49a8-c00a-c8609277f225"
      },
      "outputs": [
        {
          "name": "stdout",
          "output_type": "stream",
          "text": [
            "\u001b[2K     \u001b[90m━━━━━━━━━━━━━━━━━━━━━━━━━━━━━━━━━━━━━━━━\u001b[0m \u001b[32m17.7/17.7 MB\u001b[0m \u001b[31m81.1 MB/s\u001b[0m eta \u001b[36m0:00:00\u001b[0m\n",
            "\u001b[2K     \u001b[90m━━━━━━━━━━━━━━━━━━━━━━━━━━━━━━━━━━━━━━\u001b[0m \u001b[32m147.5/147.5 kB\u001b[0m \u001b[31m20.3 MB/s\u001b[0m eta \u001b[36m0:00:00\u001b[0m\n",
            "\u001b[2K     \u001b[90m━━━━━━━━━━━━━━━━━━━━━━━━━━━━━━━━━━━━━━━━\u001b[0m \u001b[32m82.7/82.7 kB\u001b[0m \u001b[31m11.8 MB/s\u001b[0m eta \u001b[36m0:00:00\u001b[0m\n",
            "\u001b[?25h  Preparing metadata (setup.py) ... \u001b[?25l\u001b[?25hdone\n",
            "\u001b[2K     \u001b[90m━━━━━━━━━━━━━━━━━━━━━━━━━━━━━━━━━━━━━━━━\u001b[0m \u001b[32m79.5/79.5 kB\u001b[0m \u001b[31m11.4 MB/s\u001b[0m eta \u001b[36m0:00:00\u001b[0m\n",
            "\u001b[2K     \u001b[90m━━━━━━━━━━━━━━━━━━━━━━━━━━━━━━━━━━━━━━\u001b[0m \u001b[32m212.3/212.3 kB\u001b[0m \u001b[31m27.4 MB/s\u001b[0m eta \u001b[36m0:00:00\u001b[0m\n",
            "\u001b[2K     \u001b[90m━━━━━━━━━━━━━━━━━━━━━━━━━━━━━━━━━━━━━━\u001b[0m \u001b[32m184.3/184.3 kB\u001b[0m \u001b[31m26.2 MB/s\u001b[0m eta \u001b[36m0:00:00\u001b[0m\n",
            "\u001b[2K     \u001b[90m━━━━━━━━━━━━━━━━━━━━━━━━━━━━━━━━━━━━━━━━\u001b[0m \u001b[32m78.7/78.7 kB\u001b[0m \u001b[31m10.2 MB/s\u001b[0m eta \u001b[36m0:00:00\u001b[0m\n",
            "\u001b[2K     \u001b[90m━━━━━━━━━━━━━━━━━━━━━━━━━━━━━━━━━━━━━━━━\u001b[0m \u001b[32m62.7/62.7 kB\u001b[0m \u001b[31m7.0 MB/s\u001b[0m eta \u001b[36m0:00:00\u001b[0m\n",
            "\u001b[?25h  Building wheel for databricks-cli (setup.py) ... \u001b[?25l\u001b[?25hdone\n"
          ]
        }
      ],
      "source": [
        "!pip install mlflow --quiet"
      ]
    },
    {
      "cell_type": "code",
      "execution_count": null,
      "metadata": {
        "id": "vbShIPjSAbMR"
      },
      "outputs": [],
      "source": [
        "import mlflow\n",
        "import mlflow.sklearn\n",
        "mlflow.sklearn.autolog()\n",
        "\n",
        "## Define the hyper-parameters search space\n",
        "max_depth_list = [4,6,8]\n",
        "max_leaf_nodes_list = [4,6,8]\n",
        "criterion_list = [\"gini\", \"entropy\"]\n",
        "\n",
        "\n",
        "## Create a loop for hyper-parameters search under mlflow\n",
        "for md in max_depth_list:\n",
        "    for mln in max_leaf_nodes_list:\n",
        "        for c in criterion_list:\n",
        "          with mlflow.start_run():\n",
        "              \n",
        "              clf = DecisionTreeClassifier(criterion=c, max_depth=md, max_leaf_nodes=mln)\n",
        "              clf.fit(X_train,y_train)\n",
        "\n",
        "              mlflow.log_param(\"max_depth\", md)\n",
        "              mlflow.log_param(\"max_leaf_nodes\", mln)\n",
        "              mlflow.log_param(\"criterion\", c)\n",
        "\n",
        "              y_pred = clf.predict(X_test)     \n",
        "              mlflow.log_metric(\"testing_accuracy_score\", accuracy_score(y_true = y_test, y_pred=y_pred))"
      ]
    },
    {
      "cell_type": "markdown",
      "metadata": {
        "id": "f7iEtuURQF-V"
      },
      "source": [
        "## Access the MLFlow UI"
      ]
    },
    {
      "cell_type": "code",
      "execution_count": null,
      "metadata": {
        "colab": {
          "base_uri": "https://localhost:8080/"
        },
        "id": "Jk9Ig8tkdm73",
        "outputId": "ec5c491a-6588-46f4-f469-2588746b5c84"
      },
      "outputs": [
        {
          "name": "stdout",
          "output_type": "stream",
          "text": [
            "\u001b[?25l     \u001b[90m━━━━━━━━━━━━━━━━━━━━━━━━━━━━━━━━━━━━━━━━\u001b[0m \u001b[32m0.0/681.2 kB\u001b[0m \u001b[31m?\u001b[0m eta \u001b[36m-:--:--\u001b[0m\r\u001b[2K     \u001b[90m━━━━━━━━━━━━━━━━━━━━━━━━━━━━━━━━━━━━━━\u001b[0m \u001b[32m681.2/681.2 kB\u001b[0m \u001b[31m34.9 MB/s\u001b[0m eta \u001b[36m0:00:00\u001b[0m\n",
            "\u001b[?25h  Preparing metadata (setup.py) ... \u001b[?25l\u001b[?25hdone\n",
            "  Building wheel for pyngrok (setup.py) ... \u001b[?25l\u001b[?25hdone\n"
          ]
        }
      ],
      "source": [
        "!pip install --quiet pyngrok"
      ]
    },
    {
      "cell_type": "code",
      "execution_count": null,
      "metadata": {
        "colab": {
          "base_uri": "https://localhost:8080/"
        },
        "id": "hp4CeXaSBSJe",
        "outputId": "0ab9cacb-9429-4f7d-8725-7b8ec8771849"
      },
      "outputs": [
        {
          "name": "stdout",
          "output_type": "stream",
          "text": []
        },
        {
          "name": "stderr",
          "output_type": "stream",
          "text": [
            "WARNING:pyngrok.process.ngrok:t=2023-04-19T15:51:02+0000 lvl=warn msg=\"ngrok config file found at legacy location, move to XDG location\" xdg_path=/root/.config/ngrok/ngrok.yml legacy_path=/root/.ngrok2/ngrok.yml\n"
          ]
        },
        {
          "name": "stdout",
          "output_type": "stream",
          "text": [
            "MLFlow tracking UI : https://2eb4-34-150-131-35.ngrok-free.app\n"
          ]
        }
      ],
      "source": [
        "from pyngrok import ngrok\n",
        "\n",
        "get_ipython().system_raw(\"mlflow ui --port 5000 &\")\n",
        "\n",
        "ngrok.kill()\n",
        "NGROK_AUTH_TOKEN = \"2OMufsOlaTfpzITqWOggu0SRKqs_6MXMFyodAhncUVQUVH4a3\"\n",
        "ngrok.set_auth_token(NGROK_AUTH_TOKEN)\n",
        "\n",
        "ngrok_tunnel = ngrok.connect(addr=\"5000\", proto='http', bind_tls=True)\n",
        "print(f\"MLFlow tracking UI : {ngrok_tunnel.public_url}\")"
      ]
    },
    {
      "cell_type": "markdown",
      "metadata": {
        "id": "0FfiwtyKW9pE"
      },
      "source": [
        "## Load the best model based on accuracy (test set)"
      ]
    },
    {
      "cell_type": "code",
      "execution_count": null,
      "metadata": {
        "id": "X9l1LCQFRsXL"
      },
      "outputs": [],
      "source": [
        "mlflow_df = mlflow.search_runs()\n",
        "run_id = mlflow_df.loc[mlflow_df['metrics.testing_accuracy_score'].idxmax()]['run_id']\n",
        "best_model = mlflow.sklearn.load_model(\"runs:/\" + run_id + \"/model\")"
      ]
    },
    {
      "cell_type": "code",
      "execution_count": null,
      "metadata": {
        "colab": {
          "base_uri": "https://localhost:8080/"
        },
        "id": "VfR11irnR-Cg",
        "outputId": "9abb5a69-f9c5-4687-9ccc-89ab17f7f11f"
      },
      "outputs": [
        {
          "name": "stdout",
          "output_type": "stream",
          "text": [
            "Test data accuracy: 0.958041958041958\n"
          ]
        }
      ],
      "source": [
        "# Evaluate the model again to confirm what UI results\n",
        "y_pred = best_model.predict(X_test)\n",
        "print(\"Test data accuracy:\",accuracy_score(y_true = y_test, y_pred=y_pred))"
      ]
    },
    {
      "cell_type": "markdown",
      "metadata": {
        "id": "rJ7kBaxcdD6L"
      },
      "source": [
        "![bigstock-Robot-is-in-a-relaxed-position-160443965-1024x704.jpg](data:image/jpeg;base64,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)"
      ]
    }
  ],
  "metadata": {
    "accelerator": "GPU",
    "colab": {
      "collapsed_sections": [
        "-6xzxbCUkTiT",
        "rjFsqHbIlAD-",
        "KN6C6IiuvuPp",
        "_cxkcpOj8NL3",
        "sRirSIP5AT58",
        "f7iEtuURQF-V",
        "0FfiwtyKW9pE"
      ],
      "provenance": []
    },
    "gpuClass": "premium",
    "kernelspec": {
      "display_name": "Python 3.9.6 64-bit",
      "language": "python",
      "name": "python3"
    },
    "language_info": {
      "name": "python",
      "version": "3.9.6"
    },
    "vscode": {
      "interpreter": {
        "hash": "5edc29c2ed010d6458d71a83433b383a96a8cbd3efe8531bc90c4b8a5b8bcec9"
      }
    }
  },
  "nbformat": 4,
  "nbformat_minor": 0
}
